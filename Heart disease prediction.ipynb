{
  "cells": [
    {
      "cell_type": "code",
      "execution_count": null,
      "metadata": {
        "id": "6BrDdXKIrFy9"
      },
      "outputs": [],
      "source": [
        "import numpy as np\n",
        "import pandas as pd\n",
        "import matplotlib.pyplot as plt\n",
        "import seaborn as sns\n",
        "%matplotlib inline\n",
        "import seaborn as sns; sns.set()\n",
        "import matplotlib.pyplot as plt\n",
        "from sklearn.preprocessing import StandardScaler\n",
        "from sklearn.svm import SVC\n",
        "from sklearn.metrics import accuracy_score, confusion_matrix\n",
        "from sklearn.metrics import precision_recall_fscore_support as score\n",
        "from sklearn.model_selection import  train_test_split\n",
        "from sklearn.linear_model import LogisticRegression\n",
        "from sklearn.metrics import mean_absolute_error as mae, mean_squared_error as mse,accuracy_score as ac\n",
        "from sklearn.metrics import accuracy_score,confusion_matrix,precision_score,recall_score,classification_report\n",
        "from sklearn import svm"
      ]
    },
    {
      "cell_type": "code",
      "execution_count": null,
      "metadata": {
        "id": "86MroTIErL6z"
      },
      "outputs": [],
      "source": [
        "# from google.colab import drive\n",
        "# drive.mount('/content/drive')"
      ]
    },
    {
      "cell_type": "code",
      "execution_count": null,
      "metadata": {
        "colab": {
          "base_uri": "https://localhost:8080/"
        },
        "id": "Skcgt4LerYdd",
        "outputId": "f8aaeac5-84dd-4b9e-c5be-ec4ab3f329b7"
      },
      "outputs": [
        {
          "name": "stdout",
          "output_type": "stream",
          "text": [
            "          id  age  gender  height  weight  ap_hi  ap_lo  cholesterol  gluc  \\\n",
            "0          0   72       2     168    62.0    110     80            1     1   \n",
            "1          1   67       1     156    85.0    140     90            3     1   \n",
            "2          2   71       1     165    64.0    130     70            3     1   \n",
            "3          3   74       2     169    82.0    150    100            1     1   \n",
            "4          4   75       1     156    56.0    100     60            1     1   \n",
            "...      ...  ...     ...     ...     ...    ...    ...          ...   ...   \n",
            "69995  69995   70       2     168    76.0    120     80            1     1   \n",
            "69996  69996   61       1     158   126.0    140     90            2     2   \n",
            "69997  69997   70       2     183   105.0    180     90            3     1   \n",
            "69998  69998   61       1     163    72.0    135     80            1     2   \n",
            "69999  69999   66       1     170    72.0    120     80            2     1   \n",
            "\n",
            "       smoke  alco  active  cardio  \n",
            "0          0     0       1       0  \n",
            "1          0     0       1       1  \n",
            "2          0     0       0       1  \n",
            "3          0     0       1       1  \n",
            "4          0     0       0       0  \n",
            "...      ...   ...     ...     ...  \n",
            "69995      1     0       1       0  \n",
            "69996      0     0       1       1  \n",
            "69997      0     1       0       1  \n",
            "69998      0     0       0       1  \n",
            "69999      0     0       1       0  \n",
            "\n",
            "[70000 rows x 13 columns]\n"
          ]
        }
      ],
      "source": [
        "\n",
        "data = pd.read_csv('cardio_dataset.csv')\n",
        "print(data)"
      ]
    },
    {
      "cell_type": "code",
      "execution_count": null,
      "metadata": {
        "colab": {
          "base_uri": "https://localhost:8080/",
          "height": 206
        },
        "id": "ziLPRFQsrlb7",
        "outputId": "e71f8b25-1933-44c5-83be-c0830d360494"
      },
      "outputs": [
        {
          "data": {
            "text/html": [
              "<div>\n",
              "<style scoped>\n",
              "    .dataframe tbody tr th:only-of-type {\n",
              "        vertical-align: middle;\n",
              "    }\n",
              "\n",
              "    .dataframe tbody tr th {\n",
              "        vertical-align: top;\n",
              "    }\n",
              "\n",
              "    .dataframe thead th {\n",
              "        text-align: right;\n",
              "    }\n",
              "</style>\n",
              "<table border=\"1\" class=\"dataframe\">\n",
              "  <thead>\n",
              "    <tr style=\"text-align: right;\">\n",
              "      <th></th>\n",
              "      <th>id</th>\n",
              "      <th>age</th>\n",
              "      <th>gender</th>\n",
              "      <th>height</th>\n",
              "      <th>weight</th>\n",
              "      <th>ap_hi</th>\n",
              "      <th>ap_lo</th>\n",
              "      <th>cholesterol</th>\n",
              "      <th>gluc</th>\n",
              "      <th>smoke</th>\n",
              "      <th>alco</th>\n",
              "      <th>active</th>\n",
              "      <th>cardio</th>\n",
              "    </tr>\n",
              "  </thead>\n",
              "  <tbody>\n",
              "    <tr>\n",
              "      <th>0</th>\n",
              "      <td>0</td>\n",
              "      <td>72</td>\n",
              "      <td>2</td>\n",
              "      <td>168</td>\n",
              "      <td>62.0</td>\n",
              "      <td>110</td>\n",
              "      <td>80</td>\n",
              "      <td>1</td>\n",
              "      <td>1</td>\n",
              "      <td>0</td>\n",
              "      <td>0</td>\n",
              "      <td>1</td>\n",
              "      <td>0</td>\n",
              "    </tr>\n",
              "    <tr>\n",
              "      <th>1</th>\n",
              "      <td>1</td>\n",
              "      <td>67</td>\n",
              "      <td>1</td>\n",
              "      <td>156</td>\n",
              "      <td>85.0</td>\n",
              "      <td>140</td>\n",
              "      <td>90</td>\n",
              "      <td>3</td>\n",
              "      <td>1</td>\n",
              "      <td>0</td>\n",
              "      <td>0</td>\n",
              "      <td>1</td>\n",
              "      <td>1</td>\n",
              "    </tr>\n",
              "    <tr>\n",
              "      <th>2</th>\n",
              "      <td>2</td>\n",
              "      <td>71</td>\n",
              "      <td>1</td>\n",
              "      <td>165</td>\n",
              "      <td>64.0</td>\n",
              "      <td>130</td>\n",
              "      <td>70</td>\n",
              "      <td>3</td>\n",
              "      <td>1</td>\n",
              "      <td>0</td>\n",
              "      <td>0</td>\n",
              "      <td>0</td>\n",
              "      <td>1</td>\n",
              "    </tr>\n",
              "    <tr>\n",
              "      <th>3</th>\n",
              "      <td>3</td>\n",
              "      <td>74</td>\n",
              "      <td>2</td>\n",
              "      <td>169</td>\n",
              "      <td>82.0</td>\n",
              "      <td>150</td>\n",
              "      <td>100</td>\n",
              "      <td>1</td>\n",
              "      <td>1</td>\n",
              "      <td>0</td>\n",
              "      <td>0</td>\n",
              "      <td>1</td>\n",
              "      <td>1</td>\n",
              "    </tr>\n",
              "    <tr>\n",
              "      <th>4</th>\n",
              "      <td>4</td>\n",
              "      <td>75</td>\n",
              "      <td>1</td>\n",
              "      <td>156</td>\n",
              "      <td>56.0</td>\n",
              "      <td>100</td>\n",
              "      <td>60</td>\n",
              "      <td>1</td>\n",
              "      <td>1</td>\n",
              "      <td>0</td>\n",
              "      <td>0</td>\n",
              "      <td>0</td>\n",
              "      <td>0</td>\n",
              "    </tr>\n",
              "  </tbody>\n",
              "</table>\n",
              "</div>"
            ],
            "text/plain": [
              "   id  age  gender  height  weight  ap_hi  ap_lo  cholesterol  gluc  smoke  \\\n",
              "0   0   72       2     168    62.0    110     80            1     1      0   \n",
              "1   1   67       1     156    85.0    140     90            3     1      0   \n",
              "2   2   71       1     165    64.0    130     70            3     1      0   \n",
              "3   3   74       2     169    82.0    150    100            1     1      0   \n",
              "4   4   75       1     156    56.0    100     60            1     1      0   \n",
              "\n",
              "   alco  active  cardio  \n",
              "0     0       1       0  \n",
              "1     0       1       1  \n",
              "2     0       0       1  \n",
              "3     0       1       1  \n",
              "4     0       0       0  "
            ]
          },
          "execution_count": 4,
          "metadata": {},
          "output_type": "execute_result"
        }
      ],
      "source": [
        "data.head()"
      ]
    },
    {
      "cell_type": "code",
      "execution_count": null,
      "metadata": {
        "colab": {
          "base_uri": "https://localhost:8080/"
        },
        "id": "MrD-FSPbr7cc",
        "outputId": "13af2f9e-7ad1-4bf3-ea57-e34aca9d3b9b"
      },
      "outputs": [
        {
          "name": "stdout",
          "output_type": "stream",
          "text": [
            "<class 'pandas.core.frame.DataFrame'>\n",
            "RangeIndex: 70000 entries, 0 to 69999\n",
            "Data columns (total 13 columns):\n",
            " #   Column       Non-Null Count  Dtype  \n",
            "---  ------       --------------  -----  \n",
            " 0   id           70000 non-null  int64  \n",
            " 1   age          70000 non-null  int64  \n",
            " 2   gender       70000 non-null  int64  \n",
            " 3   height       70000 non-null  int64  \n",
            " 4   weight       70000 non-null  float64\n",
            " 5   ap_hi        70000 non-null  int64  \n",
            " 6   ap_lo        70000 non-null  int64  \n",
            " 7   cholesterol  70000 non-null  int64  \n",
            " 8   gluc         70000 non-null  int64  \n",
            " 9   smoke        70000 non-null  int64  \n",
            " 10  alco         70000 non-null  int64  \n",
            " 11  active       70000 non-null  int64  \n",
            " 12  cardio       70000 non-null  int64  \n",
            "dtypes: float64(1), int64(12)\n",
            "memory usage: 6.9 MB\n"
          ]
        }
      ],
      "source": [
        "data.info()"
      ]
    },
    {
      "cell_type": "code",
      "execution_count": null,
      "metadata": {
        "colab": {
          "base_uri": "https://localhost:8080/"
        },
        "id": "WdNGdblfr8ta",
        "outputId": "1c7cb655-8085-4ed8-9f3e-a7d29d7cb1b4"
      },
      "outputs": [
        {
          "data": {
            "text/plain": [
              "0"
            ]
          },
          "execution_count": 6,
          "metadata": {},
          "output_type": "execute_result"
        }
      ],
      "source": [
        "data.isna().sum().sum()"
      ]
    },
    {
      "cell_type": "code",
      "execution_count": null,
      "metadata": {
        "colab": {
          "base_uri": "https://localhost:8080/"
        },
        "id": "fWYS9ZihXisE",
        "outputId": "0e363661-d7e9-4fb2-91e0-a379549847ab"
      },
      "outputs": [
        {
          "name": "stdout",
          "output_type": "stream",
          "text": [
            "LOGISTIC REGRESSION\n"
          ]
        }
      ],
      "source": [
        "print('LOGISTIC REGRESSION')"
      ]
    },
    {
      "cell_type": "code",
      "execution_count": null,
      "metadata": {
        "colab": {
          "base_uri": "https://localhost:8080/"
        },
        "id": "mIblYs14XitL",
        "outputId": "afe4c93a-78ca-4e6f-ee47-6c295834402e"
      },
      "outputs": [
        {
          "data": {
            "text/plain": [
              "(70000, 13)"
            ]
          },
          "execution_count": 8,
          "metadata": {},
          "output_type": "execute_result"
        }
      ],
      "source": [
        "data.shape"
      ]
    },
    {
      "cell_type": "code",
      "execution_count": null,
      "metadata": {
        "colab": {
          "base_uri": "https://localhost:8080/"
        },
        "id": "qxtLC3YzXiwz",
        "outputId": "f70fb5d1-25c2-4b60-ae04-15357adacf81"
      },
      "outputs": [
        {
          "data": {
            "text/plain": [
              "0    35021\n",
              "1    34979\n",
              "Name: cardio, dtype: int64"
            ]
          },
          "execution_count": 9,
          "metadata": {},
          "output_type": "execute_result"
        }
      ],
      "source": [
        "data['cardio'].value_counts()"
      ]
    },
    {
      "cell_type": "code",
      "execution_count": null,
      "metadata": {
        "id": "ZRKX6baYXixw"
      },
      "outputs": [],
      "source": [
        "X=data.drop(columns='cardio')\n",
        "y=data['cardio']"
      ]
    },
    {
      "cell_type": "code",
      "execution_count": null,
      "metadata": {
        "colab": {
          "base_uri": "https://localhost:8080/"
        },
        "id": "RivAMX9UXi1Y",
        "outputId": "55aa958e-f284-4865-81ea-599161804063"
      },
      "outputs": [
        {
          "data": {
            "text/plain": [
              "((70000, 12), (70000,))"
            ]
          },
          "execution_count": 11,
          "metadata": {},
          "output_type": "execute_result"
        }
      ],
      "source": [
        "X.shape,y.shape"
      ]
    },
    {
      "cell_type": "code",
      "execution_count": null,
      "metadata": {
        "colab": {
          "base_uri": "https://localhost:8080/",
          "height": 286
        },
        "id": "Sgz8jmA6Xi2U",
        "outputId": "62016b80-ff51-494c-8a1e-dd364c533746"
      },
      "outputs": [
        {
          "data": {
            "text/plain": [
              "<matplotlib.collections.PathCollection at 0x21ffd9dbaf0>"
            ]
          },
          "execution_count": 12,
          "metadata": {},
          "output_type": "execute_result"
        },
        {
          "data": {
            "image/png": "[encoded data removed]",
            "text/plain": [
              "<Figure size 432x288 with 1 Axes>"
            ]
          },
          "metadata": {},
          "output_type": "display_data"
        }
      ],
      "source": [
        "plt.scatter(X.iloc[:,1:2],y,marker=\".\", color=\"r\")"
      ]
    },
    {
      "cell_type": "code",
      "execution_count": null,
      "metadata": {
        "id": "3NEZ693TXi6i"
      },
      "outputs": [],
      "source": [
        "X_train,X_test,y_train,y_test=train_test_split(X,y,test_size=0.2,random_state=20,stratify=y)"
      ]
    },
    {
      "cell_type": "code",
      "execution_count": null,
      "metadata": {
        "colab": {
          "base_uri": "https://localhost:8080/"
        },
        "id": "JXuyWkxdXi7c",
        "outputId": "03983039-1b35-4f97-edbf-1a4bcd75c096"
      },
      "outputs": [
        {
          "data": {
            "text/plain": [
              "((56000, 12), (14000, 12), (56000,), (14000,))"
            ]
          },
          "execution_count": 14,
          "metadata": {},
          "output_type": "execute_result"
        }
      ],
      "source": [
        "X_train.shape,X_test.shape,y_train.shape,y_test.shape"
      ]
    },
    {
      "cell_type": "code",
      "execution_count": null,
      "metadata": {
        "id": "MQMu4uVFXi_K"
      },
      "outputs": [],
      "source": [
        "lreg=LogisticRegression()\n",
        "lreg.fit(X_train,y_train)\n",
        "lreg.predict(X_test)\n",
        "y_train_pred=lreg.predict(X_train)\n",
        "y_test_pred=lreg.predict(X_test)"
      ]
    },
    {
      "cell_type": "code",
      "execution_count": null,
      "metadata": {
        "colab": {
          "base_uri": "https://localhost:8080/"
        },
        "id": "bT-QQFfbXjAE",
        "outputId": "a448f317-581d-4c12-d392-795051d3c860"
      },
      "outputs": [
        {
          "name": "stdout",
          "output_type": "stream",
          "text": [
            "Accuracy scores of Training dataset : {} 0.7093928571428572\n",
            "Accuracy scores of Testing dataset : {} 0.7023571428571429\n"
          ]
        }
      ],
      "source": [
        "print(\"Accuracy scores of Training dataset : {}\" ,format(lreg.score(X_train,y_train)))\n",
        "print(\"Accuracy scores of Testing dataset : {}\" ,format(lreg.score(X_test,y_test)))"
      ]
    },
    {
      "cell_type": "code",
      "execution_count": null,
      "metadata": {
        "colab": {
          "base_uri": "https://localhost:8080/"
        },
        "id": "n35lyckXXjEL",
        "outputId": "f64c46f8-3387-43a1-dd3e-117674f9e0ed"
      },
      "outputs": [
        {
          "data": {
            "text/plain": [
              "array([[5116, 1888],\n",
              "       [2279, 4717]], dtype=int64)"
            ]
          },
          "execution_count": 17,
          "metadata": {},
          "output_type": "execute_result"
        }
      ],
      "source": [
        "from sklearn.metrics import confusion_matrix\n",
        "matrix =confusion_matrix(y_test,y_test_pred)\n",
        "matrix"
      ]
    },
    {
      "cell_type": "code",
      "execution_count": null,
      "metadata": {
        "colab": {
          "base_uri": "https://localhost:8080/",
          "height": 303
        },
        "id": "mhCrBoZQXjFN",
        "outputId": "ecf22e26-0fb9-46e7-832a-a6b7bcab347f"
      },
      "outputs": [
        {
          "data": {
            "text/plain": [
              "Text(30.5, 0.5, 'Truth')"
            ]
          },
          "execution_count": 18,
          "metadata": {},
          "output_type": "execute_result"
        },
        {
          "data": {
            "image/png": "[encoded data removed]",
            "text/plain": [
              "<Figure size 432x288 with 2 Axes>"
            ]
          },
          "metadata": {},
          "output_type": "display_data"
        }
      ],
      "source": [
        "import matplotlib.pyplot as plt\n",
        "import seaborn as sn\n",
        "sn.heatmap(matrix,annot=True)\n",
        "plt.xlabel('predicted')\n",
        "plt.ylabel('Truth')"
      ]
    },
    {
      "cell_type": "code",
      "execution_count": null,
      "metadata": {
        "id": "OxOtlT0SXjJi"
      },
      "outputs": [],
      "source": [
        "from sklearn.metrics import classification_report,confusion_matrix, accuracy_score,precision_score,f1_score,recall_score"
      ]
    },
    {
      "cell_type": "code",
      "execution_count": null,
      "metadata": {
        "id": "Nuy_yv_DYQMW"
      },
      "outputs": [],
      "source": [
        "accuracy=accuracy_score(y_test,y_test_pred)\n",
        "#recall=recall_score(y_test,y_test_pred, average=\"binary\", pos_label=\"Mine\")\n",
        "#precision=precision_score(y_test,y_test_pred, average=\"binary\", pos_label=\"Mine\")\n",
        "#f1=f1_score(y_test,y_test_pred, average=\"binary\", pos_label=\"Mine\")"
      ]
    },
    {
      "cell_type": "code",
      "execution_count": null,
      "metadata": {
        "colab": {
          "base_uri": "https://localhost:8080/",
          "height": 81
        },
        "id": "SC9I-vPRYQNh",
        "outputId": "5c30f1da-d927-495f-efc8-b7d6494f7252"
      },
      "outputs": [
        {
          "data": {
            "text/html": [
              "<div>\n",
              "<style scoped>\n",
              "    .dataframe tbody tr th:only-of-type {\n",
              "        vertical-align: middle;\n",
              "    }\n",
              "\n",
              "    .dataframe tbody tr th {\n",
              "        vertical-align: top;\n",
              "    }\n",
              "\n",
              "    .dataframe thead th {\n",
              "        text-align: right;\n",
              "    }\n",
              "</style>\n",
              "<table border=\"1\" class=\"dataframe\">\n",
              "  <thead>\n",
              "    <tr style=\"text-align: right;\">\n",
              "      <th></th>\n",
              "      <th>Logistic Regression Metrics</th>\n",
              "    </tr>\n",
              "  </thead>\n",
              "  <tbody>\n",
              "    <tr>\n",
              "      <th>accuracy</th>\n",
              "      <td>0.702357</td>\n",
              "    </tr>\n",
              "  </tbody>\n",
              "</table>\n",
              "</div>"
            ],
            "text/plain": [
              "          Logistic Regression Metrics\n",
              "accuracy                     0.702357"
            ]
          },
          "execution_count": 21,
          "metadata": {},
          "output_type": "execute_result"
        }
      ],
      "source": [
        "#pd.DataFrame({'Logistic Regression Metrics': [accuracy, recall, precision,f1]}, index=['accuracy', 'recall', 'precision','f1'])\n",
        "pd.DataFrame({'Logistic Regression Metrics': [accuracy]}, index=['accuracy'])"
      ]
    },
    {
      "cell_type": "code",
      "execution_count": null,
      "metadata": {
        "colab": {
          "base_uri": "https://localhost:8080/"
        },
        "id": "Ay6fN9X9YQQ5",
        "outputId": "433efdfa-22b8-4dfb-cc18-124389aad1ed"
      },
      "outputs": [
        {
          "name": "stdout",
          "output_type": "stream",
          "text": [
            "KNN CLASSIFIER\n"
          ]
        }
      ],
      "source": [
        "print('KNN CLASSIFIER')"
      ]
    },
    {
      "cell_type": "code",
      "execution_count": null,
      "metadata": {
        "id": "AFbqLQBtsEp7"
      },
      "outputs": [],
      "source": [
        "X = data.iloc[:, [1,2,3,4,5,6,7,8,9,10,11,12]].values\n",
        "y = data.iloc[:, -1].values"
      ]
    },
    {
      "cell_type": "code",
      "execution_count": null,
      "metadata": {
        "id": "boKRI3qxsNpD"
      },
      "outputs": [],
      "source": [
        "from sklearn.model_selection import train_test_split\n",
        "X_train, X_test, y_train, y_test = train_test_split(X, y, test_size = 0.3, random_state = 0)\n"
      ]
    },
    {
      "cell_type": "code",
      "execution_count": null,
      "metadata": {
        "id": "N_OC5RJQslsL"
      },
      "outputs": [],
      "source": [
        "from sklearn.preprocessing import StandardScaler\n",
        "sc = StandardScaler()\n",
        "X_train = sc.fit_transform(X_train)\n",
        "X_test = sc.transform(X_test)"
      ]
    },
    {
      "cell_type": "code",
      "execution_count": null,
      "metadata": {
        "colab": {
          "base_uri": "https://localhost:8080/"
        },
        "id": "Bveib4Qdsw3D",
        "outputId": "38967eb1-64ca-4b0d-f82e-258274a8f1bf"
      },
      "outputs": [
        {
          "data": {
            "text/plain": [
              "KNeighborsClassifier()"
            ]
          },
          "execution_count": 26,
          "metadata": {},
          "output_type": "execute_result"
        }
      ],
      "source": [
        "from sklearn.neighbors import KNeighborsClassifier\n",
        "classifier = KNeighborsClassifier(n_neighbors = 5, metric = 'minkowski', p = 2)\n",
        "classifier.fit(X_train, y_train)"
      ]
    },
    {
      "cell_type": "code",
      "execution_count": null,
      "metadata": {
        "id": "GYjtSFw_szJD"
      },
      "outputs": [],
      "source": [
        "y_pred = classifier.predict(X_test)"
      ]
    },
    {
      "cell_type": "code",
      "execution_count": null,
      "metadata": {
        "id": "kqYNlesMs1PD"
      },
      "outputs": [],
      "source": [
        "#pd.DataFrame({'Y_Test': y_test,'Y_Pred':y_pred})"
      ]
    },
    {
      "cell_type": "code",
      "execution_count": null,
      "metadata": {
        "id": "fUAdxrles3VD"
      },
      "outputs": [],
      "source": [
        "from sklearn.metrics import classification_report,confusion_matrix, accuracy_score,precision_score,f1_score,recall_score"
      ]
    },
    {
      "cell_type": "code",
      "execution_count": null,
      "metadata": {
        "id": "EAea1Z7Ns6Hq"
      },
      "outputs": [],
      "source": [
        "accuracy=accuracy_score(y_test,y_pred)\n",
        "#recall=recall_score(y_test,y_pred, average=\"binary\", pos_label=\"Mine\")\n",
        "#precision=precision_score(y_test,y_pred, average=\"binary\", pos_label=\"Mine\")\n",
        "#f1=f1_score(y_test,y_pred, average=\"binary\", pos_label=\"Mine\")"
      ]
    },
    {
      "cell_type": "code",
      "execution_count": null,
      "metadata": {
        "colab": {
          "base_uri": "https://localhost:8080/",
          "height": 81
        },
        "id": "P7o3SPXmtBp7",
        "outputId": "696c30b9-4ddb-4449-b928-4af37b4e3794"
      },
      "outputs": [
        {
          "data": {
            "text/html": [
              "<div>\n",
              "<style scoped>\n",
              "    .dataframe tbody tr th:only-of-type {\n",
              "        vertical-align: middle;\n",
              "    }\n",
              "\n",
              "    .dataframe tbody tr th {\n",
              "        vertical-align: top;\n",
              "    }\n",
              "\n",
              "    .dataframe thead th {\n",
              "        text-align: right;\n",
              "    }\n",
              "</style>\n",
              "<table border=\"1\" class=\"dataframe\">\n",
              "  <thead>\n",
              "    <tr style=\"text-align: right;\">\n",
              "      <th></th>\n",
              "      <th>KNN Metrics</th>\n",
              "    </tr>\n",
              "  </thead>\n",
              "  <tbody>\n",
              "    <tr>\n",
              "      <th>accuracy</th>\n",
              "      <td>0.998905</td>\n",
              "    </tr>\n",
              "  </tbody>\n",
              "</table>\n",
              "</div>"
            ],
            "text/plain": [
              "          KNN Metrics\n",
              "accuracy     0.998905"
            ]
          },
          "execution_count": 31,
          "metadata": {},
          "output_type": "execute_result"
        }
      ],
      "source": [
        "#pd.DataFrame({'KNN Metrics': [accuracy, recall, precision,f1]}, index=['accuracy', 'recall', 'precision','f1'])\n",
        "pd.DataFrame({'KNN Metrics': [accuracy]}, index=['accuracy'])"
      ]
    },
    {
      "cell_type": "code",
      "execution_count": null,
      "metadata": {
        "colab": {
          "base_uri": "https://localhost:8080/"
        },
        "id": "qbjpRs-o2UAI",
        "outputId": "978208d0-1d6b-4264-9baf-2505d3b58bea"
      },
      "outputs": [
        {
          "data": {
            "text/plain": [
              "array([[10519,    20],\n",
              "       [    3, 10458]], dtype=int64)"
            ]
          },
          "execution_count": 32,
          "metadata": {},
          "output_type": "execute_result"
        }
      ],
      "source": [
        "from sklearn.metrics import confusion_matrix\n",
        "matrix =confusion_matrix(y_test,y_pred)\n",
        "matrix"
      ]
    },
    {
      "cell_type": "code",
      "execution_count": null,
      "metadata": {
        "colab": {
          "base_uri": "https://localhost:8080/",
          "height": 303
        },
        "id": "kcA_ir-X2xql",
        "outputId": "6e5b0147-0e3f-4a58-8a37-5c28611a3835"
      },
      "outputs": [
        {
          "data": {
            "text/plain": [
              "Text(30.5, 0.5, 'Truth')"
            ]
          },
          "execution_count": 33,
          "metadata": {},
          "output_type": "execute_result"
        },
        {
          "data": {
            "image/png": "[encoded data removed]",
            "text/plain": [
              "<Figure size 432x288 with 2 Axes>"
            ]
          },
          "metadata": {},
          "output_type": "display_data"
        }
      ],
      "source": [
        "import matplotlib.pyplot as plt\n",
        "import seaborn as sn\n",
        "sn.heatmap(matrix,annot=True)\n",
        "plt.xlabel('predicted')\n",
        "plt.ylabel('Truth')"
      ]
    },
    {
      "cell_type": "code",
      "execution_count": null,
      "metadata": {
        "colab": {
          "base_uri": "https://localhost:8080/"
        },
        "id": "SIncQeY0Yhtz",
        "outputId": "bc13354a-d271-4494-9176-027c9d8e01bc"
      },
      "outputs": [
        {
          "name": "stdout",
          "output_type": "stream",
          "text": [
            "SVM\n"
          ]
        }
      ],
      "source": [
        "print('SVM')"
      ]
    },
    {
      "cell_type": "code",
      "execution_count": null,
      "metadata": {
        "id": "bsxc09cdtJJb"
      },
      "outputs": [],
      "source": [
        "from sklearn import svm"
      ]
    },
    {
      "cell_type": "code",
      "execution_count": null,
      "metadata": {
        "colab": {
          "base_uri": "https://localhost:8080/"
        },
        "id": "2vmoMj3TFjDE",
        "outputId": "98295bf8-ced8-4dfa-c419-a13e5ec94e3a"
      },
      "outputs": [
        {
          "name": "stdout",
          "output_type": "stream",
          "text": [
            "X shape is : (70000, 12)\n",
            "X_train shape is: (46900, 12)\n",
            "X_test shape is: (23100, 12)\n"
          ]
        }
      ],
      "source": [
        "# Defining the Features and Labels\n",
        "\n",
        "# Defining X (featues of the data)\n",
        "X = data.drop(columns='cardio', axis=1)\n",
        "\n",
        "# Defining y (Labels )\n",
        "y = data['cardio'] # defining y\n",
        "\n",
        "# Standardize features by removing the mean and scaling to unit variance\n",
        "scaler = StandardScaler()\n",
        "\n",
        "# Fit to data, then transform it\n",
        "X = scaler.fit_transform(X)\n",
        "\n",
        "# test_size represents the proportion of the dataset to include in the test split\n",
        "X_train, X_test, y_train, y_test = train_test_split(X, y, test_size=0.33, random_state=42)\n",
        "\n",
        "# Print the shapes of the X, X_train and X_test\n",
        "print(\"X shape is :\", X.shape)\n",
        "print(\"X_train shape is:\",  X_train.shape)\n",
        "print(\"X_test shape is:\", X_test.shape)"
      ]
    },
    {
      "cell_type": "code",
      "execution_count": null,
      "metadata": {
        "colab": {
          "base_uri": "https://localhost:8080/"
        },
        "id": "I44e-Ic_t_di",
        "outputId": "d3ad7052-8de8-49c7-ea4a-64ca70452882"
      },
      "outputs": [
        {
          "data": {
            "text/plain": [
              "SVC()"
            ]
          },
          "execution_count": 37,
          "metadata": {},
          "output_type": "execute_result"
        }
      ],
      "source": [
        "model = svm.SVC(decision_function_shape='ovr')\n",
        "model.fit(X_train, y_train)"
      ]
    },
    {
      "cell_type": "code",
      "execution_count": null,
      "metadata": {
        "colab": {
          "base_uri": "https://localhost:8080/"
        },
        "id": "QL9KmyRZGP9b",
        "outputId": "a63eda53-6ef8-4e91-c3c0-f01a138a1026"
      },
      "outputs": [
        {
          "name": "stdout",
          "output_type": "stream",
          "text": [
            "Accuracy_Score : 0.7319616204690832\n",
            "Confusion_Matrix\n",
            "\n",
            "[[8756 2750]\n",
            " [3509 8085]]\n"
          ]
        }
      ],
      "source": [
        "y_train_predict=model.predict(X_train)\n",
        "y_test_predict=model.predict(X_test)\n",
        "print(\"Accuracy_Score :\",accuracy_score(y_train,y_train_predict))\n",
        "print(\"Confusion_Matrix\\n\")\n",
        "print(confusion_matrix(y_test,y_test_predict))"
      ]
    },
    {
      "cell_type": "code",
      "execution_count": null,
      "metadata": {
        "id": "zq1CpxsC5Np3"
      },
      "outputs": [],
      "source": [
        "from sklearn.metrics import classification_report,confusion_matrix, accuracy_score,precision_score,f1_score,recall_score"
      ]
    },
    {
      "cell_type": "code",
      "execution_count": null,
      "metadata": {
        "id": "12hg2gQz5F8t"
      },
      "outputs": [],
      "source": [
        "accuracy=accuracy_score(y_test,y_test_predict)\n",
        "#recall=recall_score(y_test,y_test_predict, average=\"binary\", pos_label=\"Mine\")\n",
        "#precision=precision_score(y_test,y_test_predict, average=\"binary\", pos_label=\"Mine\")\n",
        "#f1=f1_score(y_test,y_test_predict, average=\"binary\", pos_label=\"Mine\")"
      ]
    },
    {
      "cell_type": "code",
      "execution_count": null,
      "metadata": {
        "colab": {
          "base_uri": "https://localhost:8080/",
          "height": 81
        },
        "id": "JFi4q6_25pR2",
        "outputId": "85f0e77e-b5b8-4ba9-8cb2-99c9b7cbe4b2"
      },
      "outputs": [
        {
          "data": {
            "text/html": [
              "<div>\n",
              "<style scoped>\n",
              "    .dataframe tbody tr th:only-of-type {\n",
              "        vertical-align: middle;\n",
              "    }\n",
              "\n",
              "    .dataframe tbody tr th {\n",
              "        vertical-align: top;\n",
              "    }\n",
              "\n",
              "    .dataframe thead th {\n",
              "        text-align: right;\n",
              "    }\n",
              "</style>\n",
              "<table border=\"1\" class=\"dataframe\">\n",
              "  <thead>\n",
              "    <tr style=\"text-align: right;\">\n",
              "      <th></th>\n",
              "      <th>SVM Metrics</th>\n",
              "    </tr>\n",
              "  </thead>\n",
              "  <tbody>\n",
              "    <tr>\n",
              "      <th>accuracy</th>\n",
              "      <td>0.729048</td>\n",
              "    </tr>\n",
              "  </tbody>\n",
              "</table>\n",
              "</div>"
            ],
            "text/plain": [
              "          SVM Metrics\n",
              "accuracy     0.729048"
            ]
          },
          "execution_count": 41,
          "metadata": {},
          "output_type": "execute_result"
        }
      ],
      "source": [
        "#pd.DataFrame({'SVM Metrics': [accuracy, recall, precision,f1]}, index=['accuracy', 'recall', 'precision','f1'])\n",
        "pd.DataFrame({'SVM Metrics': [accuracy]}, index=['accuracy'])"
      ]
    },
    {
      "cell_type": "code",
      "execution_count": null,
      "metadata": {
        "colab": {
          "base_uri": "https://localhost:8080/",
          "height": 303
        },
        "id": "1c5U4ILDnud9",
        "outputId": "8d85420e-ba4e-401e-95b7-473d1b92adf8"
      },
      "outputs": [
        {
          "data": {
            "text/plain": [
              "Text(30.5, 0.5, 'Truth')"
            ]
          },
          "execution_count": 42,
          "metadata": {},
          "output_type": "execute_result"
        },
        {
          "data": {
            "image/png": "[encoded data removed]",
            "text/plain": [
              "<Figure size 432x288 with 2 Axes>"
            ]
          },
          "metadata": {},
          "output_type": "display_data"
        }
      ],
      "source": [
        "import matplotlib.pyplot as plt\n",
        "import seaborn as sn\n",
        "sn.heatmap(confusion_matrix(y_test,y_test_predict),annot=True)\n",
        "plt.xlabel('predicted')\n",
        "plt.ylabel('Truth')"
      ]
    },
    {
      "cell_type": "code",
      "execution_count": null,
      "metadata": {
        "colab": {
          "base_uri": "https://localhost:8080/"
        },
        "id": "6XEt0XG9EMcC",
        "outputId": "ea06c295-a987-4e82-f0d2-1f5bea28b6b8"
      },
      "outputs": [
        {
          "name": "stdout",
          "output_type": "stream",
          "text": [
            "Random forest Algorithm\n"
          ]
        }
      ],
      "source": [
        "print(\"Random forest Algorithm\")"
      ]
    },
    {
      "cell_type": "code",
      "execution_count": null,
      "metadata": {
        "colab": {
          "base_uri": "https://localhost:8080/"
        },
        "id": "O-JRD7uTxdrE",
        "outputId": "ac66fa1f-00fd-40d7-d80b-1a7a2a8a75e4"
      },
      "outputs": [
        {
          "data": {
            "text/plain": [
              "RandomForestClassifier()"
            ]
          },
          "execution_count": 44,
          "metadata": {},
          "output_type": "execute_result"
        }
      ],
      "source": [
        "from sklearn.ensemble import RandomForestClassifier\n",
        "model = RandomForestClassifier()\n",
        "model.fit(X_train,y_train)"
      ]
    },
    {
      "cell_type": "code",
      "execution_count": null,
      "metadata": {
        "colab": {
          "base_uri": "https://localhost:8080/"
        },
        "id": "30y_0knXyv75",
        "outputId": "5d8b8350-436c-4fe8-861c-fff453304d29"
      },
      "outputs": [
        {
          "data": {
            "text/plain": [
              "0.7185714285714285"
            ]
          },
          "execution_count": 45,
          "metadata": {},
          "output_type": "execute_result"
        }
      ],
      "source": [
        "model = RandomForestClassifier(n_estimators=40)\n",
        "model.fit(X_train,y_train)\n",
        "model.score(X_test,y_test)"
      ]
    },
    {
      "cell_type": "code",
      "execution_count": null,
      "metadata": {
        "id": "1bsFvWabzCB2"
      },
      "outputs": [],
      "source": [
        "y_predicted = model.predict(X_test)"
      ]
    },
    {
      "cell_type": "code",
      "execution_count": null,
      "metadata": {
        "id": "4-0Fvex4zK6S"
      },
      "outputs": [],
      "source": [
        "from sklearn.metrics import confusion_matrix"
      ]
    },
    {
      "cell_type": "code",
      "execution_count": null,
      "metadata": {
        "colab": {
          "base_uri": "https://localhost:8080/"
        },
        "id": "0qEo-ViSzRjc",
        "outputId": "a996e3ff-a26d-467d-fe54-21390f52769d"
      },
      "outputs": [
        {
          "name": "stdout",
          "output_type": "stream",
          "text": [
            "[[8558 2948]\n",
            " [3553 8041]]\n"
          ]
        }
      ],
      "source": [
        "cm = confusion_matrix(y_test,y_predicted)\n",
        "print(cm)"
      ]
    },
    {
      "cell_type": "code",
      "execution_count": null,
      "metadata": {
        "id": "zatoA9xl51zl"
      },
      "outputs": [],
      "source": [
        "accuracy=accuracy_score(y_test,y_predicted)\n",
        "#recall=recall_score(y_test,y_predicted, average=\"binary\", pos_label=\"Mine\")\n",
        "#precision=precision_score(y_test,y_predicted, average=\"binary\", pos_label=\"Mine\")\n",
        "#f1=f1_score(y_test,y_predicted, average=\"binary\", pos_label=\"Mine\")\n"
      ]
    },
    {
      "cell_type": "code",
      "execution_count": null,
      "metadata": {
        "colab": {
          "base_uri": "https://localhost:8080/",
          "height": 81
        },
        "id": "PifhVkyI510p",
        "outputId": "f31086db-8ea4-4852-87e7-fb097e0bd18f"
      },
      "outputs": [
        {
          "data": {
            "text/html": [
              "<div>\n",
              "<style scoped>\n",
              "    .dataframe tbody tr th:only-of-type {\n",
              "        vertical-align: middle;\n",
              "    }\n",
              "\n",
              "    .dataframe tbody tr th {\n",
              "        vertical-align: top;\n",
              "    }\n",
              "\n",
              "    .dataframe thead th {\n",
              "        text-align: right;\n",
              "    }\n",
              "</style>\n",
              "<table border=\"1\" class=\"dataframe\">\n",
              "  <thead>\n",
              "    <tr style=\"text-align: right;\">\n",
              "      <th></th>\n",
              "      <th>Random forest Metrics</th>\n",
              "    </tr>\n",
              "  </thead>\n",
              "  <tbody>\n",
              "    <tr>\n",
              "      <th>accuracy</th>\n",
              "      <td>0.718571</td>\n",
              "    </tr>\n",
              "  </tbody>\n",
              "</table>\n",
              "</div>"
            ],
            "text/plain": [
              "          Random forest Metrics\n",
              "accuracy               0.718571"
            ]
          },
          "execution_count": 50,
          "metadata": {},
          "output_type": "execute_result"
        }
      ],
      "source": [
        "#pd.DataFrame({'Random Forest Metrics': [accuracy, recall, precision,f1]}, index=['accuracy', 'recall', 'precision','f1'])\n",
        "pd.DataFrame({'Random forest Metrics': [accuracy]}, index=['accuracy'])"
      ]
    },
    {
      "cell_type": "code",
      "execution_count": null,
      "metadata": {
        "colab": {
          "base_uri": "https://localhost:8080/",
          "height": 303
        },
        "id": "9ANr65AozfQf",
        "outputId": "045e6b0b-9cd0-4c80-83a8-dcbecb3cbe70"
      },
      "outputs": [
        {
          "data": {
            "text/plain": [
              "Text(30.5, 0.5, 'Truth')"
            ]
          },
          "execution_count": 51,
          "metadata": {},
          "output_type": "execute_result"
        },
        {
          "data": {
            "image/png": "[encoded data removed]",
            "text/plain": [
              "<Figure size 432x288 with 2 Axes>"
            ]
          },
          "metadata": {},
          "output_type": "display_data"
        }
      ],
      "source": [
        "import matplotlib.pyplot as plt\n",
        "import seaborn as sn\n",
        "sn.heatmap(cm,annot=True)\n",
        "plt.xlabel('predicted')\n",
        "plt.ylabel('Truth')"
      ]
    },
    {
      "cell_type": "code",
      "execution_count": null,
      "metadata": {
        "colab": {
          "base_uri": "https://localhost:8080/"
        },
        "id": "9IUVnBmiDc9z",
        "outputId": "65c902dc-d717-46ca-b5c0-0a52e4893cfa"
      },
      "outputs": [
        {
          "name": "stdout",
          "output_type": "stream",
          "text": [
            "neural networks\n"
          ]
        }
      ],
      "source": [
        "print(\"neural networks\")"
      ]
    },
    {
      "cell_type": "code",
      "execution_count": null,
      "metadata": {
        "colab": {
          "base_uri": "https://localhost:8080/"
        },
        "id": "BDzE3Q1c81O8",
        "outputId": "27f02371-1bae-41ef-9b29-8e63abaa3950"
      },
      "outputs": [
        {
          "name": "stdout",
          "output_type": "stream",
          "text": [
            "2.10.0\n"
          ]
        }
      ],
      "source": [
        "from __future__ import absolute_import, division, print_function  # Python 2/3 compatibility\n",
        "\n",
        "import warnings\n",
        "warnings.filterwarnings(\"ignore\")\n",
        "\n",
        "\n",
        "import numpy as np\n",
        "import pandas as pd\n",
        "import matplotlib.pyplot as plt\n",
        "\n",
        "from sklearn.model_selection import train_test_split\n",
        "from sklearn.preprocessing import StandardScaler\n",
        "from sklearn.metrics import confusion_matrix, precision_recall_curve, roc_auc_score, roc_curve, accuracy_score\n",
        "from sklearn.ensemble import RandomForestClassifier\n",
        "\n",
        "import seaborn as sns\n",
        "\n",
        "%matplotlib inline\n",
        "import keras\n",
        "print(keras.__version__)"
      ]
    },
    {
      "cell_type": "code",
      "execution_count": null,
      "metadata": {
        "id": "13vB2VXj81Pu"
      },
      "outputs": [],
      "source": [
        "normalizer = StandardScaler()\n",
        "X_train_norm = normalizer.fit_transform(X_train)\n",
        "X_test_norm = normalizer.transform(X_test)"
      ]
    },
    {
      "cell_type": "code",
      "execution_count": null,
      "metadata": {
        "id": "YbRNj4Qk81UB"
      },
      "outputs": [],
      "source": [
        "X = data.iloc[:, :-1].values\n",
        "y = data[\"cardio\"].values"
      ]
    },
    {
      "cell_type": "code",
      "execution_count": null,
      "metadata": {
        "id": "zuBAR4YR81Uv"
      },
      "outputs": [],
      "source": [
        "X_train, X_test, y_train, y_test = train_test_split(X, y, test_size=0.25, random_state=11111)"
      ]
    },
    {
      "cell_type": "code",
      "execution_count": null,
      "metadata": {
        "colab": {
          "base_uri": "https://localhost:8080/",
          "height": 321
        },
        "id": "F-iVtPdX81Z-",
        "outputId": "441f8a85-ada3-4863-bc7c-3da0dad4f921"
      },
      "outputs": [
        {
          "data": {
            "image/png": "[encoded data removed]",
            "text/plain": [
              "<Figure size 432x288 with 1 Axes>"
            ]
          },
          "metadata": {
            "needs_background": "light"
          },
          "output_type": "display_data"
        },
        {
          "name": "stdout",
          "output_type": "stream",
          "text": [
            "0.7230285714285715\n",
            "Precision: {Accuracy: {ac_score:.2f}\n"
          ]
        }
      ],
      "source": [
        "from sklearn.ensemble import VotingClassifier\n",
        "vc = VotingClassifier(estimators=[\n",
        "#     ('LR', LogisticRegression(max_iter=500, C=100)),\n",
        "    ('SVC', SVC(C=10, kernel='rbf', gamma='scale', probability=True)),\n",
        "    ('RF', RandomForestClassifier(n_estimators=350, n_jobs=4))\n",
        "], voting='soft')\n",
        "\n",
        "vc.fit(X_train, y_train)\n",
        "y_pred = vc.predict(X_test)\n",
        "\n",
        "conf_mat = confusion_matrix(y_test, y_pred)\n",
        "ax = sns.heatmap(conf_mat, annot=True, fmt=\".0f\", cbar=False)\n",
        "ax.set_xlabel('Predicted Labels')\n",
        "ax.set_ylabel('True Labels')\n",
        "plt.show()\n",
        "\n",
        "ac_score=accuracy_score(y_test,y_pred)\n",
        "#rc_score=recall_score(y_test,y_pred, average=\"binary\", pos_label=\"Mine\")\n",
        "#pr_score=precision_score(y_test,y_pred, average=\"binary\", pos_label=\"Mine\")\n",
        "\n",
        "#print(f'Precision: {pr_score:.2f}, Recall: {rc_score:.2f}, Accuracy: {ac_score:.2f}')\n",
        "print(ac_score)\n",
        "print('Precision: {Accuracy: {ac_score:.2f}')"
      ]
    },
    {
      "cell_type": "code",
      "execution_count": null,
      "metadata": {
        "colab": {
          "base_uri": "https://localhost:8080/"
        },
        "id": "ULUDO-3ZZIau",
        "outputId": "1fdc191f-1cb2-4df5-f929-d1e9bcf2194d"
      },
      "outputs": [
        {
          "name": "stdout",
          "output_type": "stream",
          "text": [
            "Draw the plot for accuracy comparison for all algorithms\n"
          ]
        }
      ],
      "source": [
        "print('Draw the plot for accuracy comparison for all algorithms')"
      ]
    },
    {
      "cell_type": "code",
      "execution_count": null,
      "metadata": {
        "id": "8FC1aU0v_nXp"
      },
      "outputs": [],
      "source": [
        "#Importing classifiers\n",
        "from sklearn.discriminant_analysis import QuadraticDiscriminantAnalysis\n",
        "from sklearn.ensemble import RandomForestClassifier, AdaBoostClassifier\n",
        "from sklearn.gaussian_process import GaussianProcessClassifier\n",
        "from sklearn.gaussian_process.kernels import RBF\n",
        "from sklearn.naive_bayes import GaussianNB\n",
        "from sklearn.neighbors import KNeighborsClassifier\n",
        "from sklearn.neural_network import MLPClassifier\n",
        "from sklearn.svm import SVC\n",
        "from sklearn.tree import DecisionTreeClassifier\n",
        "from sklearn.linear_model import SGDClassifier\n",
        "import numpy as np # linear algebra\n",
        "import pandas as pd # data processing, CSV file I/O (e.g. pd.read_csv)\n",
        "from matplotlib import pyplot\n",
        "import matplotlib.pyplot as plt\n",
        "import seaborn as sns\n",
        "from sklearn.pipeline import Pipeline\n",
        "from sklearn.preprocessing import PolynomialFeatures\n",
        "from sklearn.linear_model import LogisticRegression\n",
        "\n",
        "# For feature creation\n",
        "poly = PolynomialFeatures(2)"
      ]
    },
    {
      "cell_type": "code",
      "execution_count": null,
      "metadata": {
        "id": "Z7GCVYn8Ash4"
      },
      "outputs": [],
      "source": [
        "classifiers_ = [\n",
        "    (\"Decision Tree\", DecisionTreeClassifier(max_depth=10)),\n",
        "    (\"Linear SVM\", SVC (C=1.0,kernel=\"linear\",probability=True)),\n",
        "    (\"Naive Bayes\",GaussianNB()),\n",
        "    (\"Logistic Regression\",LogisticRegression()),\n",
        "    (\"Nearest Neighbors\",KNeighborsClassifier(3)),\n",
        "    (\"Neural Net\",MLPClassifier(alpha=1)),\n",
        "    (\"Random Forest\",RandomForestClassifier(n_jobs=2, random_state=1)),\n",
        "    (\"RBF SVM\",SVC(gamma=2, C=1,probability=True))\n",
        "    ]"
      ]
    },
    {
      "cell_type": "code",
      "execution_count": null,
      "metadata": {
        "colab": {
          "base_uri": "https://localhost:8080/"
        },
        "id": "iSJ04oKcjOBv",
        "outputId": "bcee2740-7d98-48ec-b904-7323817ed0d7"
      },
      "outputs": [
        {
          "name": "stdout",
          "output_type": "stream",
          "text": [
            "Decision Tree training done!\n",
            "Decision Tree training score done!\n",
            "Decision Tree testing score done!\n",
            "---\n"
          ]
        }
      ],
      "source": [
        "clf_names = []\n",
        "train_scores = []\n",
        "test_scores = []\n",
        "for n,clf in classifiers_:\n",
        "    clf_names.append(n)\n",
        "    # Model declaration with pipeline\n",
        "    clf = Pipeline([('POLY', poly),('CLF',clf)])\n",
        "\n",
        "    # Model training\n",
        "    clf.fit(X_train, y_train)\n",
        "    print(n+\" training done!\")\n",
        "\n",
        "    # Measure training accuracy and score\n",
        "    train_scores.append(clf.score(X_train, y_train))\n",
        "    print(n+\" training score done!\")\n",
        "\n",
        "    # Measure test accuracy and score\n",
        "    test_scores.append(clf.score(X_test, y_test))\n",
        "    print(n+\" testing score done!\")\n",
        "\n",
        "    print(\"---\")"
      ]
    },
    {
      "cell_type": "code",
      "execution_count": null,
      "metadata": {
        "id": "37zjmtLQBBuY"
      },
      "outputs": [],
      "source": [
        "#Plot results\n",
        "plt.title('Accuracy Training Score')\n",
        "plt.grid()\n",
        "plt.plot(train_scores,clf_names)\n",
        "plt.show()\n",
        "\n",
        "plt.title('Accuraccy Test Score')\n",
        "plt.grid()\n",
        "plt.plot(test_scores,clf_names)\n",
        "plt.show()"
      ]
    },
    {
      "cell_type": "code",
      "execution_count": null,
      "metadata": {
        "id": "aywT2fpeBv7A"
      },
      "outputs": [],
      "source": []
    },
    {
      "cell_type": "code",
      "execution_count": null,
      "metadata": {
        "id": "7vFCy9-dxVcO"
      },
      "outputs": [],
      "source": []
    }
  ],
  "metadata": {
    "colab": {
      "provenance": []
    },
    "kernelspec": {
      "display_name": "Python 3",
      "language": "python",
      "name": "python3"
    },
    "language_info": {
      "codemirror_mode": {
        "name": "ipython",
        "version": 3
      },
      "file_extension": ".py",
      "mimetype": "text/x-python",
      "name": "python",
      "nbconvert_exporter": "python",
      "pygments_lexer": "ipython3",
      "version": "3.8.8"
    }
  },
  "nbformat": 4,
  "nbformat_minor": 0
}